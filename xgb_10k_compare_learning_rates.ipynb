{
 "cells": [
  {
   "cell_type": "markdown",
   "id": "e28d7344-7e4a-4a28-bf35-a86211b7bf7f",
   "metadata": {
    "tags": []
   },
   "source": [
    "# A comparison of 10K cohort thrombolysis rates across hospitals - adjusting learning rates\n",
    "\n",
    "## Aims:\n",
    "\n",
    "* Train XGBoost model on all data except for a 10K set of patients\n",
    "* Predict use of thrombolysis in 10K cohort at each of 132 hospitals (by changing hospital one-hot coding)."
   ]
  },
  {
   "cell_type": "markdown",
   "id": "cad56ee2-06be-433d-b5f6-49639e8dbafb",
   "metadata": {},
   "source": [
    "## Import libraries"
   ]
  },
  {
   "cell_type": "code",
   "execution_count": 1,
   "id": "6daa1e72-cd0b-4035-be66-43a234ddca8a",
   "metadata": {},
   "outputs": [],
   "source": [
    "# Turn warnings off to keep notebook tidy\n",
    "import warnings\n",
    "warnings.filterwarnings(\"ignore\")\n",
    "\n",
    "import matplotlib.pyplot as plt\n",
    "import os\n",
    "import pandas as pd\n",
    "import numpy as np\n",
    "\n",
    "from sklearn.metrics import auc\n",
    "from sklearn.metrics import roc_curve\n",
    "\n",
    "from xgboost import XGBClassifier"
   ]
  },
  {
   "cell_type": "markdown",
   "id": "f02fb027-f0e9-4d50-aae9-ab12343820a0",
   "metadata": {},
   "source": [
    "## Create output folders if needed"
   ]
  },
  {
   "cell_type": "code",
   "execution_count": 2,
   "id": "37755327-1974-4049-9db8-e1dd16c43cc7",
   "metadata": {},
   "outputs": [],
   "source": [
    "path = './output'\n",
    "if not os.path.exists(path):\n",
    "    os.makedirs(path)\n",
    "    \n",
    "path = './predictions'\n",
    "if not os.path.exists(path):\n",
    "    os.makedirs(path)"
   ]
  },
  {
   "cell_type": "markdown",
   "id": "94556518-b8e0-4f97-b3bf-57bcea8e391a",
   "metadata": {},
   "source": [
    "## Load data"
   ]
  },
  {
   "cell_type": "code",
   "execution_count": 3,
   "id": "094e69f6-3897-4da4-a838-fabe0b9baaa4",
   "metadata": {},
   "outputs": [],
   "source": [
    "data_loc = './data/10k_training_test/'\n",
    "\n",
    "train = pd.read_csv(data_loc + 'cohort_10000_train.csv')\n",
    "test = pd.read_csv(data_loc + 'cohort_10000_test.csv')"
   ]
  },
  {
   "cell_type": "markdown",
   "id": "4fb4512b-d282-4874-bfcc-67d0aed4b472",
   "metadata": {},
   "source": [
    "## Combined XGBoost Model\n",
    "\n",
    "### Train model"
   ]
  },
  {
   "cell_type": "code",
   "execution_count": 4,
   "id": "41f585ce-8199-4523-a9bc-47c6e259b64d",
   "metadata": {},
   "outputs": [
    {
     "name": "stdout",
     "output_type": "stream",
     "text": [
      "LR: 0.01, Accuracy: 0.8324\n",
      "LR: 0.1, Accuracy: 0.8499\n",
      "LR: 0.3, Accuracy: 0.852\n",
      "LR: 0.5, Accuracy: 0.8497\n",
      "LR: 0.7, Accuracy: 0.8455\n",
      "LR: 1, Accuracy: 0.8341\n"
     ]
    }
   ],
   "source": [
    "models = []\n",
    "accuracies = []\n",
    "\n",
    "# Get X and y\n",
    "X_train = train.drop('S2Thrombolysis', axis=1)\n",
    "X_test = test.drop('S2Thrombolysis', axis=1)\n",
    "y_train = train['S2Thrombolysis']\n",
    "y_test = test['S2Thrombolysis']\n",
    "\n",
    "# One hot encode hospitals\n",
    "X_train_hosp = pd.get_dummies(X_train['StrokeTeam'], prefix = 'team')\n",
    "X_train = pd.concat([X_train, X_train_hosp], axis=1)\n",
    "X_train.drop('StrokeTeam', axis=1, inplace=True)\n",
    "X_test_hosp = pd.get_dummies(X_test['StrokeTeam'], prefix = 'team')\n",
    "X_test = pd.concat([X_test, X_test_hosp], axis=1)\n",
    "X_test.drop('StrokeTeam', axis=1, inplace=True)\n",
    "\n",
    "learning_rates = [0.01, 0.1, 0.3, 0.5, 0.70, 1]\n",
    "\n",
    "for lr in learning_rates:\n",
    "\n",
    "    # Define model\n",
    "    model = XGBClassifier(verbosity = 0, seed=42, learning_rate=lr)\n",
    "\n",
    "    # Fit model\n",
    "    model.fit(X_train, y_train)\n",
    "    models.append(model)\n",
    "\n",
    "    # Get predicted probabilities and class\n",
    "    y_probs = model.predict_proba(X_test)[:,1]\n",
    "    y_pred = y_probs > 0.5\n",
    "\n",
    "    # Show accuracy\n",
    "    accuracy = np.mean(y_pred == y_test)\n",
    "    accuracies.append(accuracy)\n",
    "    print (f'LR: {lr}, Accuracy: {accuracy:0.3f}')"
   ]
  },
  {
   "cell_type": "markdown",
   "id": "d1d3cd34-8ff5-43d4-9971-03413d007fbe",
   "metadata": {},
   "source": [
    "### Pass 10k cohort through all hospital models and get thrombolysis rate"
   ]
  },
  {
   "cell_type": "code",
   "execution_count": 5,
   "id": "4050071a-ce7c-4b29-8e88-55032c314cf9",
   "metadata": {},
   "outputs": [],
   "source": [
    "hospitals = list(set(train['StrokeTeam']))\n",
    "hospitals.sort()\n",
    "\n",
    "thrombolysis_rates_by_lr = []\n",
    "\n",
    "for i in range(len(learning_rates)):\n",
    "    \n",
    "    model = models[i]\n",
    "    thrombolysis_rate = []\n",
    "\n",
    "    for hospital in hospitals:\n",
    "\n",
    "        # Get test data without thrombolysis hospital or stroke team\n",
    "        X_test_no_hosp = test.drop(['S2Thrombolysis', 'StrokeTeam'], axis=1)\n",
    "\n",
    "        # Copy hospital dataframe and change hospital ID (after setting all to zero)\n",
    "        X_test_adjusted_hospital = X_test_hosp.copy()\n",
    "        X_test_adjusted_hospital.loc[:,:] = 0\n",
    "        team = \"team_\" + hospital\n",
    "        X_test_adjusted_hospital[team] = 1\n",
    "\n",
    "        X_test_adjusted = pd.concat(\n",
    "            [X_test_no_hosp, X_test_adjusted_hospital], axis=1)\n",
    "\n",
    "        # Get predicted probabilities and class\n",
    "        y_probs = model.predict_proba(X_test_adjusted)[:,1]\n",
    "        y_pred = y_probs > 0.5\n",
    "        thrombolysis_rate.append(y_pred.mean())\n",
    "        \n",
    "    thrombolysis_by_hosp = pd.DataFrame(index=hospitals)\n",
    "    thrombolysis_by_hosp['Thrombolysis rate'] = thrombolysis_rate\n",
    "    thrombolysis_rates_by_lr.append(thrombolysis_by_hosp)      \n"
   ]
  },
  {
   "cell_type": "markdown",
   "id": "a0a6198e-86b8-4e21-9bda-085241ba5055",
   "metadata": {},
   "source": [
    "### Plot thrombolysis rate of 10K cohort at each hospital"
   ]
  },
  {
   "cell_type": "code",
   "execution_count": 6,
   "id": "7e8d967d-03db-4119-8602-8b3e903e08b3",
   "metadata": {},
   "outputs": [
    {
     "data": {
      "image/png": "[encoded data removed]",
      "text/plain": [
       "<Figure size 648x648 with 6 Axes>"
      ]
     },
     "metadata": {
      "needs_background": "light"
     },
     "output_type": "display_data"
    }
   ],
   "source": [
    "fig = plt.figure(figsize=(9, 9))\n",
    "\n",
    "for i, thrombolysis_rate in enumerate(thrombolysis_rates_by_lr):\n",
    "\n",
    "    ax = fig.add_subplot(3, 2, i+1)\n",
    "    ax.hist(thrombolysis_rate,\n",
    "            bins=np.arange(0.0, 0.51, 0.025),\n",
    "            histtype='bar',\n",
    "            label = learning_rates[i])\n",
    "    ax.set_xlabel('Thrombolysis rate')\n",
    "    ax.set_ylabel('Count')\n",
    "    \n",
    "    stdev = np.std(thrombolysis_rate['Thrombolysis rate'])\n",
    "    ax.set_title(f'LR: {learning_rates[i]}, StDev: {stdev:0.3f}')\n",
    "\n",
    "plt.tight_layout(pad=2)\n",
    "plt.show()"
   ]
  },
  {
   "cell_type": "markdown",
   "id": "d9965104-a12b-44e1-bbbf-20c81d841004",
   "metadata": {},
   "source": [
    "### Show stats"
   ]
  },
  {
   "cell_type": "code",
   "execution_count": 7,
   "id": "88453597-98c8-44a2-8b51-607817c6a44e",
   "metadata": {},
   "outputs": [
    {
     "name": "stdout",
     "output_type": "stream",
     "text": [
      "Learning rate: 0.01\n",
      "Mean: 0.280\n",
      "StDev: 0.000\n",
      "Min: 0.280\n",
      "Max: 0.280\n",
      "\n",
      "Learning rate: 0.1\n",
      "Mean: 0.280\n",
      "StDev: 0.024\n",
      "Min: 0.199\n",
      "Max: 0.361\n",
      "\n",
      "Learning rate: 0.3\n",
      "Mean: 0.278\n",
      "StDev: 0.050\n",
      "Min: 0.136\n",
      "Max: 0.407\n",
      "\n",
      "Learning rate: 0.5\n",
      "Mean: 0.278\n",
      "StDev: 0.059\n",
      "Min: 0.105\n",
      "Max: 0.427\n",
      "\n",
      "Learning rate: 0.7\n",
      "Mean: 0.280\n",
      "StDev: 0.061\n",
      "Min: 0.115\n",
      "Max: 0.433\n",
      "\n",
      "Learning rate: 1\n",
      "Mean: 0.279\n",
      "StDev: 0.062\n",
      "Min: 0.128\n",
      "Max: 0.470\n",
      "\n"
     ]
    }
   ],
   "source": [
    "for i, thrombolysis_rate in enumerate(thrombolysis_rates_by_lr):\n",
    "    mean = np.mean(thrombolysis_rate['Thrombolysis rate'])\n",
    "    stdev = np.std(thrombolysis_rate['Thrombolysis rate'])\n",
    "    minimum = np.min(thrombolysis_rate['Thrombolysis rate'])\n",
    "    maximum = np.max(thrombolysis_rate['Thrombolysis rate'])\n",
    "\n",
    "    print (f'Learning rate: {learning_rates[i]}')\n",
    "    print (f'Mean: {mean:0.3f}')\n",
    "    print (f'StDev: {stdev:0.3f}')\n",
    "    print (f'Min: {minimum:0.3f}')\n",
    "    print (f'Max: {maximum:0.3f}')\n",
    "    print ()"
   ]
  }
 ],
 "metadata": {
  "kernelspec": {
   "display_name": "Python 3 (ipykernel)",
   "language": "python",
   "name": "python3"
  },
  "language_info": {
   "codemirror_mode": {
    "name": "ipython",
    "version": 3
   },
   "file_extension": ".py",
   "mimetype": "text/x-python",
   "name": "python",
   "nbconvert_exporter": "python",
   "pygments_lexer": "ipython3",
   "version": "3.8.13"
  }
 },
 "nbformat": 4,
 "nbformat_minor": 5
}
